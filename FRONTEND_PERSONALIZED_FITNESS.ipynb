{
  "cells": [
    {
      "cell_type": "code",
      "execution_count": null,
      "metadata": {
        "id": "3orES8dJAiYj"
      },
      "outputs": [],
      "source": [
        "!pip install torch syft"
      ]
    },
    {
      "cell_type": "code",
      "execution_count": null,
      "metadata": {
        "id": "FrFxs-0bF9rx"
      },
      "outputs": [],
      "source": [
        "!python -m venv syft_env\n",
        "!source syft_env/bin/activate  # Activate the environment"
      ]
    },
    {
      "cell_type": "code",
      "execution_count": null,
      "metadata": {
        "id": "QyhXOnjIGywS"
      },
      "outputs": [],
      "source": [
        "!pip install --upgrade pip==24.0.2"
      ]
    },
    {
      "cell_type": "code",
      "execution_count": null,
      "metadata": {
        "id": "gvy3wR85An9i"
      },
      "outputs": [],
      "source": [
        "import torch\n",
        "import syft as sy\n",
        "from torch import nn, optim\n",
        "\n",
        "# Initialize the virtual workers (simulating multiple devices)\n",
        "hook = sy.TorchHook(torch)\n",
        "worker1 = sy.VirtualWorker(id=\"worker1\", hook=hook)\n",
        "worker2 = sy.VirtualWorker(id=\"worker2\", hook=hook)\n",
        "\n",
        "# Dummy model for recommendation\n",
        "class RecommenderModel(nn.Module):\n",
        "    def __init__(self):\n",
        "        super(RecommenderModel, self).__init__()\n",
        "        self.fc = nn.Linear(10, 1)  # Example with 10 features for simplicity\n",
        "\n",
        "    def forward(self, x):\n",
        "        return self.fc(x)\n",
        "\n",
        "# Model initialization\n",
        "model = RecommenderModel()\n",
        "\n",
        "# Federated data simulated\n",
        "data1 = torch.randn(10).send(worker1)\n",
        "data2 = torch.randn(10).send(worker2)\n",
        "\n",
        "target1 = torch.tensor(1.0).send(worker1)\n",
        "target2 = torch.tensor(0.0).send(worker2)\n",
        "\n",
        "# Federated Training Loop\n",
        "optimizer = optim.SGD(model.parameters(), lr=0.1)\n",
        "loss_fn = nn.MSELoss()\n",
        "\n",
        "# Training over the federated data\n",
        "for epoch in range(10):\n",
        "    # Send the model to each worker\n",
        "    model.send(worker1)\n",
        "\n",
        "    # Training on worker1\n",
        "    optimizer.zero_grad()\n",
        "    prediction1 = model(data1)\n",
        "    loss1 = loss_fn(prediction1, target1)\n",
        "    loss1.backward()\n",
        "    optimizer.step()\n",
        "\n",
        "    # Get the model back to the main machine before sending to worker2\n",
        "    model.get()\n",
        "\n",
        "    # Send the model to worker2\n",
        "    model.send(worker2)\n",
        "\n",
        "    # Training on worker2\n",
        "    optimizer.zero_grad()\n",
        "    prediction2 = model(data2)\n",
        "    loss2 = loss_fn(prediction2, target2)\n",
        "    loss2.backward()\n",
        "    optimizer.step()\n",
        "\n",
        "    # Get the model back to the main machine\n",
        "    model.get()\n",
        "\n",
        "    print(f\"Epoch {epoch}, Loss1: {loss1.item()}, Loss2: {loss2.item()}\")\n"
      ]
    },
    {
      "cell_type": "code",
      "execution_count": null,
      "metadata": {
        "id": "0G5EeGH4AprX"
      },
      "outputs": [],
      "source": [
        "!pip install pycryptodome"
      ]
    },
    {
      "cell_type": "code",
      "execution_count": null,
      "metadata": {
        "id": "ToI5TfYDA0I4"
      },
      "outputs": [],
      "source": [
        "from Crypto.Cipher import AES\n",
        "import base64\n",
        "\n",
        "def encrypt_data(data, key):\n",
        "    cipher = AES.new(key, AES.MODE_EAX)\n",
        "    ciphertext, tag = cipher.encrypt_and_digest(data.encode())\n",
        "    return base64.b64encode(cipher.nonce + tag + ciphertext).decode()\n",
        "\n",
        "def decrypt_data(encrypted_data, key):\n",
        "    encrypted_data = base64.b64decode(encrypted_data)\n",
        "    nonce, tag, ciphertext = encrypted_data[:16], encrypted_data[16:32], encrypted_data[32:]\n",
        "    cipher = AES.new(key, AES.MODE_EAX, nonce=nonce)\n",
        "    decrypted_data = cipher.decrypt_and_verify(ciphertext, tag)\n",
        "    return decrypted_data.decode()\n",
        "\n",
        "# Example usage\n",
        "key = b'Sixteen byte key'  # 16-byte key for AES\n",
        "user_data = \"User sensitive health data\"\n",
        "encrypted = encrypt_data(user_data, key)\n",
        "decrypted = decrypt_data(encrypted, key)\n",
        "\n",
        "print(f\"Encrypted: {encrypted}\")\n",
        "print(f\"Decrypted: {decrypted}\")"
      ]
    },
    {
      "cell_type": "code",
      "execution_count": null,
      "metadata": {
        "id": "m5RAdQJKA1s5"
      },
      "outputs": [],
      "source": [
        "import pandas as pd\n",
        "from sklearn.neighbors import NearestNeighbors\n",
        "\n",
        "# Sample data (users' workout preferences)\n",
        "data = {'user_id': [1, 2, 3, 4, 5],\n",
        "        'workout_preference': [5, 3, 4, 2, 1],\n",
        "        'diet_preference': [3, 4, 2, 5, 3]}\n",
        "\n",
        "df = pd.DataFrame(data)\n",
        "\n",
        "# Create a simple recommender system using Nearest Neighbors\n",
        "X = df[['workout_preference', 'diet_preference']].values\n",
        "model = NearestNeighbors(n_neighbors=2, algorithm='ball_tree')\n",
        "model.fit(X)\n",
        "\n",
        "# Recommend similar users for user 1\n",
        "distances, indices = model.kneighbors([X[0]])\n",
        "print(f\"Recommendations for user 1: {indices}\")"
      ]
    }
  ],
  "metadata": {
    "colab": {
      "provenance": []
    },
    "kernelspec": {
      "display_name": "Python 3",
      "name": "python3"
    },
    "language_info": {
      "name": "python"
    }
  },
  "nbformat": 4,
  "nbformat_minor": 0
}
